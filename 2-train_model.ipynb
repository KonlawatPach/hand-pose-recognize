{
 "cells": [
  {
   "cell_type": "code",
   "execution_count": 7,
   "metadata": {},
   "outputs": [],
   "source": [
    "import pandas as pd\n",
    "import numpy as np\n",
    "from sklearn.model_selection import train_test_split\n",
    "from sklearn.preprocessing import StandardScaler\n",
    "from sklearn.metrics import mean_squared_error, r2_score\n",
    "from sklearn.metrics import accuracy_score, classification_report\n",
    "import pickle"
   ]
  },
  {
   "cell_type": "code",
   "execution_count": 11,
   "metadata": {},
   "outputs": [],
   "source": [
    "data = pd.read_csv('normalized_hand_landmarks.csv')\n",
    "\n",
    "x_label_list = data.columns.difference(['y'])\n",
    "y_label_list = ['y']\n",
    "\n",
    "modified_data = data.map(lambda x: x * -1 if isinstance(x, (int, float)) else x)\n",
    "modified_data.iloc[:, 0] = modified_data.iloc[:, 0] * -1\n",
    "data = pd.concat([data, modified_data], ignore_index=True)\n",
    "\n",
    "X = data.loc[:, x_label_list]\n",
    "y = data.loc[:, y_label_list]"
   ]
  },
  {
   "cell_type": "code",
   "execution_count": 12,
   "metadata": {},
   "outputs": [
    {
     "name": "stdout",
     "output_type": "stream",
     "text": [
      "Accuracy: 0.9753086419753086\n",
      "Classification Report:\n",
      "              precision    recall  f1-score   support\n",
      "\n",
      "          Ox       1.00      0.96      0.98        24\n",
      "      Rabbit       1.00      1.00      1.00        18\n",
      "         Rat       1.00      0.96      0.98        23\n",
      "       Tiger       0.89      1.00      0.94        16\n",
      "\n",
      "    accuracy                           0.98        81\n",
      "   macro avg       0.97      0.98      0.97        81\n",
      "weighted avg       0.98      0.98      0.98        81\n",
      "\n"
     ]
    }
   ],
   "source": [
    "from sklearn.svm import SVC\n",
    "\n",
    "# Scale features\n",
    "scaler = StandardScaler()\n",
    "X_scaled = scaler.fit_transform(X)\n",
    "\n",
    "# Split the dataset\n",
    "X_train, X_test, y_train, y_test = train_test_split(X_scaled, y, test_size=0.2, random_state=42)\n",
    "\n",
    "# Train a logistic regression model\n",
    "model = SVC()\n",
    "model.fit(X_train, y_train.values.ravel())\n",
    "\n",
    "# Make predictions on the test set\n",
    "y_pred = model.predict(X_test)\n",
    "accuracy = accuracy_score(y_test, y_pred)\n",
    "report = classification_report(y_test, y_pred)\n",
    "\n",
    "# Save the model and scaler\n",
    "with open('model-seal.pkl', 'wb') as file:\n",
    "    pickle.dump(model, file)\n",
    "with open('scalar.pkl', 'wb') as file:\n",
    "    pickle.dump(scaler, file)\n",
    "\n",
    "# Print the results\n",
    "print(f'Accuracy: {accuracy}')\n",
    "print('Classification Report:')\n",
    "print(report)"
   ]
  }
 ],
 "metadata": {
  "kernelspec": {
   "display_name": "Python 3",
   "language": "python",
   "name": "python3"
  },
  "language_info": {
   "codemirror_mode": {
    "name": "ipython",
    "version": 3
   },
   "file_extension": ".py",
   "mimetype": "text/x-python",
   "name": "python",
   "nbconvert_exporter": "python",
   "pygments_lexer": "ipython3",
   "version": "3.12.4"
  }
 },
 "nbformat": 4,
 "nbformat_minor": 2
}
